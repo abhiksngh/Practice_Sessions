{
 "cells": [
  {
   "cell_type": "markdown",
   "metadata": {},
   "source": [
    "# My Practice Notebook"
   ]
  },
  {
   "cell_type": "code",
   "execution_count": 1,
   "metadata": {},
   "outputs": [
    {
     "data": {
      "text/plain": [
       "False"
      ]
     },
     "execution_count": 1,
     "metadata": {},
     "output_type": "execute_result"
    }
   ],
   "source": [
    "def check_range(n,low,high):\n",
    "    if low <=n<= high:\n",
    "        return True\n",
    "    else:\n",
    "        return False\n",
    "check_range(0,1,6)"
   ]
  },
  {
   "cell_type": "code",
   "execution_count": 2,
   "metadata": {},
   "outputs": [],
   "source": [
    "def unique_list(lst):\n",
    "    new_list=[]\n",
    "    for item in lst:\n",
    "        if item not in new_list:\n",
    "            new_list.append(item)\n",
    "    print (new_list)        \n"
   ]
  },
  {
   "cell_type": "code",
   "execution_count": 3,
   "metadata": {},
   "outputs": [
    {
     "name": "stdout",
     "output_type": "stream",
     "text": [
      "[1, 2, 3, 4, 5, 6, 7, 8]\n"
     ]
    }
   ],
   "source": [
    "unique_list([1,1,1,1,2,2,2,2,3,4,3,4,4,4,5,5,6,7,8,8]) "
   ]
  },
  {
   "cell_type": "code",
   "execution_count": 4,
   "metadata": {},
   "outputs": [],
   "source": [
    "def check_caps(s):\n",
    "    caps=0\n",
    "    small=0\n",
    "    for char in s:\n",
    "        if char.isupper():\n",
    "            caps+=1\n",
    "        else:\n",
    "            small+=1\n",
    "    print (len(s))        \n",
    "    print (\"No of caps \"+str(caps))\n",
    "    print (\"No of Smalls \"+str(small))"
   ]
  },
  {
   "cell_type": "code",
   "execution_count": 5,
   "metadata": {},
   "outputs": [
    {
     "name": "stdout",
     "output_type": "stream",
     "text": [
      "22\n",
      "No of caps 3\n",
      "No of Smalls 19\n"
     ]
    }
   ],
   "source": [
    "s='Hello l my Name is Nau'\n",
    "check_caps(s)"
   ]
  },
  {
   "cell_type": "code",
   "execution_count": 6,
   "metadata": {},
   "outputs": [],
   "source": [
    "def palin(s):\n",
    "    if s.lower()==s[::-1].lower():\n",
    "        print ('Palindrome')\n",
    "    else:\n",
    "        \n",
    "        print ('Aint a Palindrome')\n",
    "        \n"
   ]
  },
  {
   "cell_type": "code",
   "execution_count": 7,
   "metadata": {},
   "outputs": [
    {
     "name": "stdout",
     "output_type": "stream",
     "text": [
      "Palindrome\n"
     ]
    }
   ],
   "source": [
    "palin('Cac')"
   ]
  },
  {
   "cell_type": "code",
   "execution_count": 8,
   "metadata": {},
   "outputs": [],
   "source": [
    "import string\n",
    "\n",
    "def ispanagram(str1):\n",
    "    new_str=str1.replace(\" \",\"\")\n",
    "    charlist=set(new_str)\n",
    "    if len(charlist)>=26:\n",
    "        print (\"Congrats its a Panagram\")\n",
    "    else:\n",
    "        print (\"I am sorry that wasnt a panagram\")\n"
   ]
  },
  {
   "cell_type": "code",
   "execution_count": 9,
   "metadata": {},
   "outputs": [
    {
     "name": "stdout",
     "output_type": "stream",
     "text": [
      "Congrats its a Panagram\n"
     ]
    }
   ],
   "source": [
    "ispanagram(\"Glib jocks quiz nymph to vex dwarf.\")   "
   ]
  }
 ],
 "metadata": {
  "kernelspec": {
   "display_name": "Python 3",
   "language": "python",
   "name": "python3"
  },
  "language_info": {
   "codemirror_mode": {
    "name": "ipython",
    "version": 3
   },
   "file_extension": ".py",
   "mimetype": "text/x-python",
   "name": "python",
   "nbconvert_exporter": "python",
   "pygments_lexer": "ipython3",
   "version": "3.6.4"
  }
 },
 "nbformat": 4,
 "nbformat_minor": 2
}
