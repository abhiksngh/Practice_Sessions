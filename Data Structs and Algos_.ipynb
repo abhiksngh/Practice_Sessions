{
 "cells": [
  {
   "cell_type": "markdown",
   "metadata": {},
   "source": [
    "# Linear Search"
   ]
  },
  {
   "cell_type": "code",
   "execution_count": 14,
   "metadata": {},
   "outputs": [
    {
     "name": "stdout",
     "output_type": "stream",
     "text": [
      "Enter the items for your cartmango banana\n",
      "Enter the item you want to check!mango\n",
      "Your item is found!\n"
     ]
    }
   ],
   "source": [
    "def LinearSearch(myList,Item):\n",
    "    if len(myList)==0:\n",
    "        return \"Empty\"\n",
    "    elif Item in myList:\n",
    "        return True\n",
    "    else:\n",
    "        return False\n",
    "\n",
    "if __name__== \"__main__\":\n",
    "    ShoppingList=input(\"Enter the items for your cart\")\n",
    "    Item=input(\"Enter the item you want to check!\")\n",
    "    isFound=LinearSearch(ShoppingList,Item)\n",
    "    if isFound == True:\n",
    "        print (\"Your item is found!\")\n",
    "    elif isFound == 'Empty':\n",
    "        print (\"Your list is empty!\")\n",
    "    else:\n",
    "        print (\"Your item is not found\")"
   ]
  },
  {
   "cell_type": "markdown",
   "metadata": {},
   "source": [
    "# Binary Search"
   ]
  },
  {
   "cell_type": "code",
   "execution_count": 1,
   "metadata": {},
   "outputs": [
    {
     "name": "stdout",
     "output_type": "stream",
     "text": [
      "Enter the item5\n",
      "Found\n"
     ]
    }
   ],
   "source": [
    "def BinarySearch(myList,Item):\n",
    "    #if len(myList)==0:\n",
    "     #   return \"Empty\"\n",
    "    #myList.sort()\n",
    "    start = 0 \n",
    "    end = len(myList)-1 \n",
    "    found = False\n",
    "    \n",
    "    while (start <=end and not found):\n",
    "        mid=int((start+(end))/2)\n",
    "        if myList[mid]==Item:\n",
    "            found = True\n",
    "        elif myList[mid]<Item:\n",
    "            start=mid+1\n",
    "        elif myList[mid]>Item:\n",
    "            last=mid-1\n",
    "    return found\n",
    "    #return found\n",
    "    \n",
    "if __name__ == \"__main__\":\n",
    "    #myList=input('Enter your list')\n",
    "    Item=int(input('Enter the item'))\n",
    "    result=BinarySearch([1,2,3,4,5,6,7,8,9,10],Item)\n",
    "    if result == True:\n",
    "        print (\"Found\")\n",
    "    else:\n",
    "        print (\"Not found\")    \n"
   ]
  },
  {
   "cell_type": "code",
   "execution_count": 51,
   "metadata": {},
   "outputs": [],
   "source": [
    "def BubbleSort(list1):\n",
    "    length=len(list1)-1\n",
    "    while(length>0):\n",
    "        for i in range(length):\n",
    "            print (\"Length :=\",length)\n",
    "            print (\"Iter :=\",i)\n",
    "            if list1[i] > list1[i+1]:    \n",
    "                temp=list1[i]\n",
    "                list1[i]=list1[i+1]     \n",
    "                list1[i+1]=temp\n",
    "        length = length-1\n",
    "    return list1"
   ]
  },
  {
   "cell_type": "code",
   "execution_count": 53,
   "metadata": {},
   "outputs": [
    {
     "name": "stdout",
     "output_type": "stream",
     "text": [
      "Length := 7\n",
      "Iter := 0\n",
      "Length := 7\n",
      "Iter := 1\n",
      "Length := 7\n",
      "Iter := 2\n",
      "Length := 7\n",
      "Iter := 3\n",
      "Length := 7\n",
      "Iter := 4\n",
      "Length := 7\n",
      "Iter := 5\n",
      "Length := 7\n",
      "Iter := 6\n",
      "Length := 6\n",
      "Iter := 0\n",
      "Length := 6\n",
      "Iter := 1\n",
      "Length := 6\n",
      "Iter := 2\n",
      "Length := 6\n",
      "Iter := 3\n",
      "Length := 6\n",
      "Iter := 4\n",
      "Length := 6\n",
      "Iter := 5\n",
      "Length := 5\n",
      "Iter := 0\n",
      "Length := 5\n",
      "Iter := 1\n",
      "Length := 5\n",
      "Iter := 2\n",
      "Length := 5\n",
      "Iter := 3\n",
      "Length := 5\n",
      "Iter := 4\n",
      "Length := 4\n",
      "Iter := 0\n",
      "Length := 4\n",
      "Iter := 1\n",
      "Length := 4\n",
      "Iter := 2\n",
      "Length := 4\n",
      "Iter := 3\n",
      "Length := 3\n",
      "Iter := 0\n",
      "Length := 3\n",
      "Iter := 1\n",
      "Length := 3\n",
      "Iter := 2\n",
      "Length := 2\n",
      "Iter := 0\n",
      "Length := 2\n",
      "Iter := 1\n",
      "Length := 1\n",
      "Iter := 0\n"
     ]
    },
    {
     "data": {
      "text/plain": [
       "[4, 5, 6, 7, 8, 10, 12, 40]"
      ]
     },
     "execution_count": 53,
     "metadata": {},
     "output_type": "execute_result"
    }
   ],
   "source": [
    "BubbleSort([12, 10, 40 ,8, 7, 5, 6, 4])"
   ]
  },
  {
   "cell_type": "code",
   "execution_count": null,
   "metadata": {},
   "outputs": [],
   "source": [
    "def SelectionSort(myList):\n",
    "    start=0\n",
    "    end=len(myList)-1\n",
    "    min=myList[0]\n",
    "    for i in range(1,end):\n",
    "        if min>myList[i]:\n",
    "            temp=min\n",
    "            min=myList[i]\n",
    "        "
   ]
  },
  {
   "cell_type": "code",
   "execution_count": null,
   "metadata": {},
   "outputs": [],
   "source": []
  }
 ],
 "metadata": {
  "kernelspec": {
   "display_name": "Python 3",
   "language": "python",
   "name": "python3"
  },
  "language_info": {
   "codemirror_mode": {
    "name": "ipython",
    "version": 3
   },
   "file_extension": ".py",
   "mimetype": "text/x-python",
   "name": "python",
   "nbconvert_exporter": "python",
   "pygments_lexer": "ipython3",
   "version": "3.6.5"
  }
 },
 "nbformat": 4,
 "nbformat_minor": 2
}
