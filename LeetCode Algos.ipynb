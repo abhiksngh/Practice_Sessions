{
 "cells": [
  {
   "cell_type": "markdown",
   "metadata": {},
   "source": [
    "# LeetCode Algos - My Submissions\n"
   ]
  },
  {
   "cell_type": "markdown",
   "metadata": {},
   "source": [
    "# Reverse (Overflow if not 32 bit signed int)"
   ]
  },
  {
   "cell_type": "code",
   "execution_count": 769,
   "metadata": {},
   "outputs": [
    {
     "data": {
      "text/plain": [
       "0"
      ]
     },
     "execution_count": 769,
     "metadata": {},
     "output_type": "execute_result"
    }
   ],
   "source": [
    "def reverse( x):\n",
    "        \"\"\"\n",
    "        :type x: int\n",
    "        :rtype: int\n",
    "        \"\"\"\n",
    "        n = list ( str ( abs (x) ) )\n",
    "        n.reverse()\n",
    "        n= int( ''.join(n) )\n",
    "        if 2147483647>=n>=-2147483647:\n",
    "            if x<0:\n",
    "                return n*-1\n",
    "            else:\n",
    "                return n\n",
    "        else:\n",
    "            return 0\n",
    "        \n",
    "reverse(1534236469)"
   ]
  },
  {
   "cell_type": "markdown",
   "metadata": {},
   "source": [
    "# Palindrome Number"
   ]
  },
  {
   "cell_type": "code",
   "execution_count": 770,
   "metadata": {},
   "outputs": [
    {
     "data": {
      "text/plain": [
       "True"
      ]
     },
     "execution_count": 770,
     "metadata": {},
     "output_type": "execute_result"
    }
   ],
   "source": [
    " def isPalindrome(x):\n",
    "        \"\"\"\n",
    "        :type x: int\n",
    "        :rtype: bool\n",
    "        \"\"\"\n",
    "        temp=x\n",
    "        rev=0\n",
    "        if x<0:\n",
    "            return False\n",
    "        else:\n",
    "            while x>0:\n",
    "                rem=x%10\n",
    "                x=int(x/10)\n",
    "                rev=rev*10+rem\n",
    "            if rev==temp:\n",
    "                return True\n",
    "            else:\n",
    "                return False\n",
    "            \n",
    "isPalindrome(121121)            "
   ]
  },
  {
   "cell_type": "markdown",
   "metadata": {},
   "source": [
    "# Remove specified element from List (Other approach, not accepted by leetcode)"
   ]
  },
  {
   "cell_type": "code",
   "execution_count": 771,
   "metadata": {},
   "outputs": [
    {
     "name": "stdout",
     "output_type": "stream",
     "text": [
      "[2, 2]\n"
     ]
    }
   ],
   "source": [
    "nums=[3,2,2,3]\n",
    "def removeElement(nums, val):\n",
    "    count=0\n",
    "    nums1=[]\n",
    "    for index in range(len(nums)):\n",
    "        if nums[index]!=val:\n",
    "            nums1.append(nums[index])\n",
    "            count=count+1\n",
    "    nums=nums1[:]\n",
    "    print (nums)\n",
    "    \n",
    "removeElement(nums,3)    "
   ]
  },
  {
   "cell_type": "markdown",
   "metadata": {},
   "source": [
    "# Remove specified element and return count"
   ]
  },
  {
   "cell_type": "code",
   "execution_count": 772,
   "metadata": {},
   "outputs": [
    {
     "data": {
      "text/plain": [
       "7"
      ]
     },
     "execution_count": 772,
     "metadata": {},
     "output_type": "execute_result"
    }
   ],
   "source": [
    "nums=[0,1,2,2,3,0,2,4,0,0,0,0,9]\n",
    "def removeElement(nums, val):\n",
    "    while val in nums:\n",
    "        nums.remove(val)\n",
    "    return len(nums)\n",
    "removeElement(nums,0)"
   ]
  },
  {
   "cell_type": "markdown",
   "metadata": {},
   "source": [
    "# Convert Roman to Integer"
   ]
  },
  {
   "cell_type": "code",
   "execution_count": 773,
   "metadata": {},
   "outputs": [
    {
     "data": {
      "text/plain": [
       "30"
      ]
     },
     "execution_count": 773,
     "metadata": {},
     "output_type": "execute_result"
    }
   ],
   "source": [
    "#I can be placed before V (5) and X (10) to make 4 and 9. \n",
    "#X can be placed before L (50) and C (100) to make 40 and 90. \n",
    "#C can be placed before D (500) and M (1000) to make 400 and 900.\n",
    "\n",
    "s='XXX'\n",
    "\n",
    "def romanToInt(s):\n",
    "        \"\"\"\n",
    "        :type s: str\n",
    "        :rtype: int\n",
    "        \"\"\"\n",
    "        num=0\n",
    "        length=len(s)\n",
    "        roman={ 'I':1, 'V':5 ,'X':10, 'L':50, 'C':100, 'D':500, 'M':1000}\n",
    "        for i in range(length-1):\n",
    "            if roman[s[i]]<roman[s[i+1]]:\n",
    "                num=num-roman[s[i]]\n",
    "            else:\n",
    "                num=num+roman[s[i]]\n",
    "        num=num+roman[s[-1]]        \n",
    "        return (num) \n",
    "    \n",
    "romanToInt(s)    \n",
    "            "
   ]
  },
  {
   "cell_type": "markdown",
   "metadata": {},
   "source": [
    "# Longest Palindrome in a string - Medium (Slighly diff approach)"
   ]
  },
  {
   "cell_type": "code",
   "execution_count": 73,
   "metadata": {},
   "outputs": [
    {
     "data": {
      "text/plain": [
       "'aaaabbbbaaaa'"
      ]
     },
     "execution_count": 73,
     "metadata": {},
     "output_type": "execute_result"
    }
   ],
   "source": [
    "s='aaaabbbbaaaa'\n",
    "\n",
    "def longestPalindrome(s):\n",
    "        \"\"\"\n",
    "        :type s: str\n",
    "        :rtype: str\n",
    "        \"\"\"\n",
    "        length=len(s)        \n",
    "        if length<1:\n",
    "            return ''\n",
    "        elif length==1:\n",
    "            return s\n",
    "        else:\n",
    "            loci,locj,flag = 0,0,0\n",
    "            for i in range(length,1,-1):\n",
    "                for j in range(0,length):\n",
    "                    if (s[j:i]==''.join(reversed(s[j:i]))) and (flag<len(s[j:i])):\n",
    "                        flag=len(s[j:i])\n",
    "                        loci,locj = j , i\n",
    "            return (s[loci:locj]) \n",
    "longestPalindrome(s)        "
   ]
  },
  {
   "cell_type": "markdown",
   "metadata": {},
   "source": [
    "# Longest Palindrome in a string - Medium"
   ]
  },
  {
   "cell_type": "code",
   "execution_count": 776,
   "metadata": {},
   "outputs": [
    {
     "data": {
      "text/plain": [
       "'aaaabbbbaaaa'"
      ]
     },
     "execution_count": 776,
     "metadata": {},
     "output_type": "execute_result"
    }
   ],
   "source": [
    "def longests(s):\n",
    "        length=len(s)        \n",
    "        if length<1:\n",
    "            return ''\n",
    "        elif length==1:\n",
    "            return s\n",
    "        elif s==s[::-1]:\n",
    "            return s\n",
    "        else:\n",
    "            results=[]\n",
    "            for i in range(len(s)+1):\n",
    "                print (\"i = \",i)\n",
    "                for j in range(0,i):\n",
    "                    print (\"j = \",j)\n",
    "                    words=s[j:i+1]\n",
    "                    print(\"Chunk = \",words)\n",
    "                    if words==words[::-1]:\n",
    "                        results.append(words)\n",
    "            if len(results)==0:\n",
    "                return ''\n",
    "            else:\n",
    "                return max(results, key=len)   \n",
    "            \n",
    "longests('aaaabbbbaaaa')                "
   ]
  },
  {
   "cell_type": "markdown",
   "metadata": {},
   "source": [
    "# Finding Common Substring from a list of words"
   ]
  },
  {
   "cell_type": "code",
   "execution_count": 95,
   "metadata": {},
   "outputs": [
    {
     "name": "stdout",
     "output_type": "stream",
     "text": [
      "POS & CHAR =  0 A\n",
      "WORD =  A\n",
      "WORD =  A\n",
      "WORD =  C\n"
     ]
    },
    {
     "data": {
      "text/plain": [
       "''"
      ]
     },
     "execution_count": 95,
     "metadata": {},
     "output_type": "execute_result"
    }
   ],
   "source": [
    "def commonString(strs):\n",
    "    common=''\n",
    "    if len(strs)==0:\n",
    "        return ''\n",
    "    if len(strs)==1:\n",
    "        return strs[0]\n",
    "    if len(strs)>1:\n",
    "        minima=min(strs,key=len)\n",
    "    for pos,char in enumerate(minima):\n",
    "        print (\"POS & CHAR = \",pos,char)\n",
    "        for word in strs:\n",
    "            print (\"WORD = \",word[pos])\n",
    "            if word[pos]!=char:\n",
    "                return minima[:pos]            \n",
    "    return minima        \n",
    "\n",
    "commonString(['AllC','AllB','CALL'])    \n",
    "        \n",
    "            "
   ]
  }
 ],
 "metadata": {
  "kernelspec": {
   "display_name": "Python 3",
   "language": "python",
   "name": "python3"
  },
  "language_info": {
   "codemirror_mode": {
    "name": "ipython",
    "version": 3
   },
   "file_extension": ".py",
   "mimetype": "text/x-python",
   "name": "python",
   "nbconvert_exporter": "python",
   "pygments_lexer": "ipython3",
   "version": "3.6.5"
  }
 },
 "nbformat": 4,
 "nbformat_minor": 2
}
