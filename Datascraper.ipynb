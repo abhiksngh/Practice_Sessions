{
 "cells": [
  {
   "cell_type": "markdown",
   "metadata": {},
   "source": [
    "# Implementing BeautifulSoup to scrape Syamntec.com"
   ]
  },
  {
   "cell_type": "code",
   "execution_count": null,
   "metadata": {},
   "outputs": [],
   "source": [
    "#Importing BeautifulSoup\n",
    "from bs4 import BeautifulSoup\n",
    "import requests\n",
    "from datetime import datetime\n",
    "\n",
    "#The following page contains the system vulnerabilities reported by Symantec\n",
    "url = 'https://www.symantec.com/security_response/landing/vulnerabilities.jsp'"
   ]
  },
  {
   "cell_type": "code",
   "execution_count": null,
   "metadata": {},
   "outputs": [],
   "source": [
    "# Request content from web page\n",
    "response = requests.get(url)\n",
    "content = response.content"
   ]
  },
  {
   "cell_type": "code",
   "execution_count": null,
   "metadata": {},
   "outputs": [],
   "source": [
    "soup = BeautifulSoup(content, 'lxml')"
   ]
  },
  {
   "cell_type": "code",
   "execution_count": null,
   "metadata": {},
   "outputs": [],
   "source": [
    "# located the division where the table is located in\n",
    "# Find all the tables in this division\n",
    "division_of_interest = soup.find(\"div\",{'class':'no-table'})\n",
    "tables = division_of_interest.find_all('table')\n",
    "print(tables[0])"
   ]
  },
  {
   "cell_type": "code",
   "execution_count": null,
   "metadata": {
    "scrolled": true
   },
   "outputs": [],
   "source": [
    "#retrieve all the rows from the first table \n",
    "rows = tables[0].findAll('tr')\n",
    "rows"
   ]
  },
  {
   "cell_type": "code",
   "execution_count": null,
   "metadata": {},
   "outputs": [],
   "source": [
    "#vulnerablility names\n",
    "vul_names =[]\n",
    "\n",
    "#discovered dates\n",
    "date_values=[]\n",
    "\n",
    "#the urls of the vulnerbility description pages\n",
    "url_values = []\n",
    "\n",
    "#in each row\n",
    "for tr in rows: \n",
    "    # if it's not the first row\n",
    "    # use tr(text=True) to determine if it's the first row\n",
    "    if \"Discovered\" not in tr(text=True):\n",
    "        #find all the a tags in the row\n",
    "        a_tag = tr.find('a')\n",
    "        #vulnerbility name is the first text of the <a> tag\n",
    "        vul = a_tag(text=True)[0]\n",
    "        vul_names.append(vul)\n",
    "        \n",
    "        #construct the URLs \n",
    "        url_values.append(\"https://www.symantec.com/\"+a_tag['href'])\n",
    "        \n",
    "        #date is the text of the last <td> tag\n",
    "        td = tr.findAll('td')\n",
    "        #remove the <td></td> tags from the string\n",
    "        date = str(td[-1]).replace(\"<td>\",'').replace(\"</td>\",\"\")\n",
    "        #add date to the date_values list\n",
    "        date_values.append(date)"
   ]
  },
  {
   "cell_type": "code",
   "execution_count": 155,
   "metadata": {
    "scrolled": false
   },
   "outputs": [
    {
     "name": "stdout",
     "output_type": "stream",
     "text": [
      "Enter a date in DD/YY/MM format01/01/2018\n",
      "Enter a date in DD/YY/MM format01/01/2019\n",
      "please enter a keyword : Adobe\n",
      "\n",
      "Found Vulnerability Number : 1 Found at Row Number : 163 \tDate : 12/05/2018\n",
      "Vulnerability Name : Adobe Flash Player CVE-2018-15982 Use After Free Remote Code Execution Vulnerability\n",
      "URL: https://www.symantec.com//content/symantec/english/en/security-center/vulnerabilities/writeup.html/106116\n",
      "\n",
      "Found Vulnerability Number : 2 Found at Row Number : 335 \tDate : 08/14/2018\n",
      "Vulnerability Name : Adobe Flash Player APSB18-25 Multiple Information Disclosure Vulnerabilities\n",
      "URL: https://www.symantec.com//content/symantec/english/en/security-center/vulnerabilities/writeup.html/105066\n",
      "\n",
      "Found Vulnerability Number : 3 Found at Row Number : 395 \tDate : 08/14/2018\n",
      "Vulnerability Name : Adobe Acrobat and Reader APSB18-29 Multiple Arbitrary Code Execution Vulnerabilities\n",
      "URL: https://www.symantec.com//content/symantec/english/en/security-center/vulnerabilities/writeup.html/105069\n",
      "\n",
      "Found Vulnerability Number : 4 Found at Row Number : 449 \tDate : 07/10/2018\n",
      "Vulnerability Name : Adobe Acrobat and Reader APSB18-21 Multiple Heap Buffer Overflow Vulnerabilities\n",
      "URL: https://www.symantec.com//content/symantec/english/en/security-center/vulnerabilities/writeup.html/104700\n",
      "\n",
      "Found Vulnerability Number : 5 Found at Row Number : 450 \tDate : 07/10/2018\n",
      "Vulnerability Name : Adobe Acrobat and Reader APSB18-21 Multiple Information Disclosure Vulnerabilities\n",
      "URL: https://www.symantec.com//content/symantec/english/en/security-center/vulnerabilities/writeup.html/104699\n",
      "\n",
      "Found Vulnerability Number : 6 Found at Row Number : 451 \tDate : 07/10/2018\n",
      "Vulnerability Name : Adobe Flash Player APSB18-24 Arbiitrary Code Execution and Information Disclosure Vulnerabilities\n",
      "URL: https://www.symantec.com//content/symantec/english/en/security-center/vulnerabilities/writeup.html/104698\n",
      "\n",
      "Found Vulnerability Number : 7 Found at Row Number : 502 \tDate : 06/07/2018\n",
      "Vulnerability Name : Adobe Flash Player APSB18-19 Multiple Security Vulnerabilities\n",
      "URL: https://www.symantec.com//content/symantec/english/en/security-center/vulnerabilities/writeup.html/104413\n",
      "\n",
      "Found Vulnerability Number : 8 Found at Row Number : 503 \tDate : 05/14/2018\n",
      "Vulnerability Name : Adobe Acrobat and Reader NT LAN Manager CVE-2018-4993 Information Disclosure Vulnerability\n",
      "URL: https://www.symantec.com//content/symantec/english/en/security-center/vulnerabilities/writeup.html/104177\n",
      "\n",
      "Found Vulnerability Number : 9 Found at Row Number : 504 \tDate : 05/14/2018\n",
      "Vulnerability Name : Adobe Acrobat and Reader CVE-2018-4990 Arbitrary Code Execution Vulnerability\n",
      "URL: https://www.symantec.com//content/symantec/english/en/security-center/vulnerabilities/writeup.html/104167\n",
      "\n",
      "Found Vulnerability Number : 10 Found at Row Number : 505 \tDate : 05/14/2018\n",
      "Vulnerability Name : Adobe Acrobat and Reader CVE-2018-4979 Security Bypass Vulnerability\n",
      "URL: https://www.symantec.com//content/symantec/english/en/security-center/vulnerabilities/writeup.html/104168\n",
      "\n",
      "Found Vulnerability Number : 11 Found at Row Number : 506 \tDate : 05/14/2018\n",
      "Vulnerability Name : Adobe Acrobat and Reader Multiple Arbitrary Code Execution Vulnerabilities\n",
      "URL: https://www.symantec.com//content/symantec/english/en/security-center/vulnerabilities/writeup.html/104169\n",
      "\n",
      "Found Vulnerability Number : 12 Found at Row Number : 507 \tDate : 05/14/2018\n",
      "Vulnerability Name : Adobe Acrobat and Reader Multiple Heap Buffer Overflow Vulnerabilities\n",
      "URL: https://www.symantec.com//content/symantec/english/en/security-center/vulnerabilities/writeup.html/104172\n",
      "\n",
      "Found Vulnerability Number : 13 Found at Row Number : 508 \tDate : 05/14/2018\n",
      "Vulnerability Name : Adobe Acrobat and Reader APSB18-09 Multiple Information Disclosure Vulnerabilities\n",
      "URL: https://www.symantec.com//content/symantec/english/en/security-center/vulnerabilities/writeup.html/104175\n",
      "\n",
      "Found Vulnerability Number : 14 Found at Row Number : 509 \tDate : 05/14/2018\n",
      "Vulnerability Name : Adobe Acrobat and Reader Multiple Security Vulnerabilities\n",
      "URL: https://www.symantec.com//content/symantec/english/en/security-center/vulnerabilities/writeup.html/104173\n",
      "\n",
      "Found Vulnerability Number : 15 Found at Row Number : 510 \tDate : 05/14/2018\n",
      "Vulnerability Name : Adobe Acrobat and Reader CVE-2018-4950 Arbitrary Code Execution Vulnerability\n",
      "URL: https://www.symantec.com//content/symantec/english/en/security-center/vulnerabilities/writeup.html/104174\n",
      "\n",
      "Found Vulnerability Number : 16 Found at Row Number : 511 \tDate : 05/14/2018\n",
      "Vulnerability Name : Adobe Acrobat/Reader/Photoshop CC CVE-2018-4946 Remote Code Execution Vulnerability\n",
      "URL: https://www.symantec.com//content/symantec/english/en/security-center/vulnerabilities/writeup.html/104171\n",
      "\n",
      "Found Vulnerability Number : 17 Found at Row Number : 578 \tDate : 05/08/2018\n",
      "Vulnerability Name : Adobe Flash Player CVE-2018-4944 Type Confusion Remote Code Execution Vulnerability\n",
      "URL: https://www.symantec.com//content/symantec/english/en/security-center/vulnerabilities/writeup.html/104101\n",
      "\n",
      "Found Vulnerability Number : 18 Found at Row Number : 583 \tDate : 04/10/2018\n",
      "Vulnerability Name : Adobe Flash Player APSB18-08 Multiple Security Vulnerabilities\n",
      "URL: https://www.symantec.com//content/symantec/english/en/security-center/vulnerabilities/writeup.html/103708\n",
      "\n",
      "Found Vulnerability Number : 19 Found at Row Number : 647 \tDate : 03/13/2018\n",
      "Vulnerability Name : Adobe Flash Player CVE-2018-4919 Use After Free Remote Code Execution Vulnerability\n",
      "URL: https://www.symantec.com//content/symantec/english/en/security-center/vulnerabilities/writeup.html/103385\n",
      "\n",
      "Found Vulnerability Number : 20 Found at Row Number : 648 \tDate : 03/13/2018\n",
      "Vulnerability Name : Adobe Flash Player CVE-2018-4920 Type Confusion Remote Code Execution Vulnerability\n",
      "URL: https://www.symantec.com//content/symantec/english/en/security-center/vulnerabilities/writeup.html/103383\n",
      "\n",
      "Found Vulnerability Number : 21 Found at Row Number : 760 \tDate : 02/13/2018\n",
      "Vulnerability Name : Adobe Acrobat and Reader APSB18-02 Out of Bounds Read Multiple Remote Code Execution Vulnerabilities\n",
      "URL: https://www.symantec.com//content/symantec/english/en/security-center/vulnerabilities/writeup.html/102996\n",
      "\n",
      "Found Vulnerability Number : 22 Found at Row Number : 773 \tDate : 02/13/2018\n",
      "Vulnerability Name : Adobe Acrobat and Reader Multiple Remote Code Execution Vulnerabilities\n",
      "URL: https://www.symantec.com//content/symantec/english/en/security-center/vulnerabilities/writeup.html/102995\n",
      "\n",
      "Found Vulnerability Number : 23 Found at Row Number : 774 \tDate : 02/13/2018\n",
      "Vulnerability Name : Adobe Acrobat and Reader APSB18-02 Multiple Heap Buffer Overflow Vulnerabilities\n",
      "URL: https://www.symantec.com//content/symantec/english/en/security-center/vulnerabilities/writeup.html/102992\n",
      "\n",
      "Found Vulnerability Number : 24 Found at Row Number : 775 \tDate : 02/13/2018\n",
      "Vulnerability Name : Adobe Acrobat and Reader APSB18-02 Multiple Remote Code Execution Vulnerabilities\n",
      "URL: https://www.symantec.com//content/symantec/english/en/security-center/vulnerabilities/writeup.html/102994\n",
      "\n",
      "Found Vulnerability Number : 25 Found at Row Number : 776 \tDate : 02/06/2018\n",
      "Vulnerability Name : Adobe Flash Player CVE-2018-4877 Use After Free Remote Code Execution Vulnerability\n",
      "URL: https://www.symantec.com//content/symantec/english/en/security-center/vulnerabilities/writeup.html/102930\n",
      "\n",
      "Found Vulnerability Number : 26 Found at Row Number : 777 \tDate : 02/01/2018\n",
      "Vulnerability Name : Adobe Flash Player CVE-2018-4878 Use After Free Remote Code Execution Vulnerability\n",
      "URL: https://www.symantec.com//content/symantec/english/en/security-center/vulnerabilities/writeup.html/102893\n",
      "\n",
      "Found Vulnerability Number : 27 Found at Row Number : 801 \tDate : 01/09/2018\n",
      "Vulnerability Name : Adobe Flash Player Out-Of-Bounds Read Information Disclosure Vulnerability\n",
      "URL: https://www.symantec.com//content/symantec/english/en/security-center/vulnerabilities/writeup.html/102465\n"
     ]
    }
   ],
   "source": [
    "#Creating imput from use\n",
    "start_date = input('Enter a date in DD/YY/MM format')\n",
    "end_date = input('Enter a date in DD/YY/MM format')\n",
    "search_string=str(input(\"please enter a keyword : \"))\n",
    "\n",
    "#Stripping time forr comparision\n",
    "a = datetime.strptime(start_date, \"%m/%d/%Y\")\n",
    "b = datetime.strptime(end_date, \"%m/%d/%Y\")\n",
    "\n",
    "#To maintain count of rows so that it does not cross 100.\n",
    "count=0\n",
    "#loop to prrint vulnerability in the user specified date range\n",
    "for index in range(len(date_values)):\n",
    "    \n",
    "    c=datetime.strptime(date_values[index], \"%m/%d/%Y\")\n",
    "    if (a<=c and b>=c ):\n",
    "            \n",
    "            if (vul_names[index].count(search_string) > 0 and count<100 ):\n",
    "                count=count+1\n",
    "                print(\"\\nFound Vulnerability Number : \" +str(count) +\" Found at Row Number : \"+ str(index)+\" \\tDate : \"+ date_values[index],)\n",
    "                print(\"Vulnerability Name : \" + vul_names[index],)\n",
    "                print(\"URL: \" + url_values[index],)\n",
    "                \n"
   ]
  },
  {
   "cell_type": "code",
   "execution_count": null,
   "metadata": {},
   "outputs": [],
   "source": []
  }
 ],
 "metadata": {
  "anaconda-cloud": {},
  "kernelspec": {
   "display_name": "Python 3",
   "language": "python",
   "name": "python3"
  },
  "language_info": {
   "codemirror_mode": {
    "name": "ipython",
    "version": 3
   },
   "file_extension": ".py",
   "mimetype": "text/x-python",
   "name": "python",
   "nbconvert_exporter": "python",
   "pygments_lexer": "ipython3",
   "version": "3.6.5"
  }
 },
 "nbformat": 4,
 "nbformat_minor": 1
}
